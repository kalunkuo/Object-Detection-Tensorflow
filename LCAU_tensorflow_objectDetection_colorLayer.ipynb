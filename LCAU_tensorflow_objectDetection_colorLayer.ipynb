{
  "cells": [
    {
      "cell_type": "markdown",
      "metadata": {
        "id": "view-in-github",
        "colab_type": "text"
      },
      "source": [
        "<a href=\"https://colab.research.google.com/github/kalunkuo/Object-Detection-Tensorflow/blob/main/LCAU_tensorflow_objectDetection_colorLayer.ipynb\" target=\"_parent\"><img src=\"https://colab.research.google.com/assets/colab-badge.svg\" alt=\"Open In Colab\"/></a>"
      ]
    },
    {
      "cell_type": "markdown",
      "source": [
        "### **LCAU Object Detection and Image Processing Pipeline**\n",
        "\n"
      ],
      "metadata": {
        "id": "8NG5bY7LKJmc"
      }
    },
    {
      "cell_type": "markdown",
      "source": [
        "This code performs object detection on a set of images using a TensorFlow Hub model, draws bounding boxes around detected objects, and saves the annotated images to a specified directory."
      ],
      "metadata": {
        "id": "0Y7pkWLSLTw4"
      }
    },
    {
      "cell_type": "code",
      "execution_count": null,
      "metadata": {
        "id": "8g0jg2jJ0nw1"
      },
      "outputs": [],
      "source": [
        "from google.colab import drive\n",
        "drive.mount(\"/content/gdrive\")"
      ]
    },
    {
      "cell_type": "code",
      "execution_count": null,
      "metadata": {
        "colab": {
          "base_uri": "https://localhost:8080/"
        },
        "id": "RPys1tZ-46q0",
        "outputId": "e5b6944a-1a8b-472b-de11-636a6474cb51"
      },
      "outputs": [
        {
          "output_type": "stream",
          "name": "stdout",
          "text": [
            "/content/gdrive/MyDrive/0_work/3_MIT/data_collection/18_segments/05_extra_frames/00_selected_frames\n"
          ]
        }
      ],
      "source": [
        "!pwd"
      ]
    },
    {
      "cell_type": "code",
      "source": [
        "import cv2\n",
        "import numpy as np\n",
        "from PIL import Image, ImageDraw, ImageFont, ImageColor, ImageOps\n",
        "import tensorflow as tf\n",
        "import tensorflow_hub as hub\n",
        "from os import listdir\n",
        "from os.path import isfile, join"
      ],
      "metadata": {
        "id": "ZK613FUGQEa1"
      },
      "execution_count": null,
      "outputs": []
    },
    {
      "cell_type": "markdown",
      "source": [
        "**display_image**:\n",
        "Draws bounding boxes around detected objects on an image and saves the annotated image.\n",
        "\n",
        "*   image: PIL Image object representing the input image.\n",
        "*   boxes: NumPy array of bounding box coordinates.\n",
        "*   boxes: NumPy array of bounding box coordinates.\n",
        "*   class_names: NumPy array of class names for detected objects.\n",
        "*   scores: NumPy array of confidence scores for detected objects.\n",
        "*   col_sel: Color selection for bounding boxes.\n",
        "*   imgName: Name of the image file.\n",
        "*   width_px, height_px: Width and height of the output image."
      ],
      "metadata": {
        "id": "_d8eUE12QUpP"
      }
    },
    {
      "cell_type": "code",
      "source": [
        "def display_image(image, boxes, class_names, scores, col_sel, imgName, width_px, height_px):\n",
        "    blank_image = Image.new(\"RGBA\", (width_px, height_px), (255, 255, 255, 0))\n",
        "    draw = ImageDraw.Draw(blank_image, 'RGBA')\n",
        "    font = ImageFont.truetype(\"/usr/share/fonts/truetype/liberation/LiberationSansNarrow-Regular.ttf\", 75)\n",
        "\n",
        "    for i in range(min(boxes.shape[0], 10)):  # Display up to 10 boxes\n",
        "        if scores[i] >= 0.1:  # Minimum confidence score\n",
        "            ymin, xmin, ymax, xmax = tuple(boxes[i])\n",
        "            display_str = \"{}: {}%\".format(class_names[i].decode(\"ascii\"), int(100 * scores[i]))\n",
        "\n",
        "            color = get_color(display_str)\n",
        "\n",
        "            if color == col_sel:\n",
        "                draw_box(draw, (xmin, ymin, xmax, ymax), color, width_px, height_px)\n",
        "                draw_text(draw, font, display_str, (xmin, ymin), color)\n",
        "\n",
        "    file_path = f'layer/{col_sel}/img{imgName}.png'\n",
        "    print(\"Display image\", file_path)\n",
        "    blank_image.save(file_path, format='png')\n",
        "    print(\"Image saved to %s.\" % file_path)"
      ],
      "metadata": {
        "id": "9eeI2zZrQGJw"
      },
      "execution_count": null,
      "outputs": []
    },
    {
      "cell_type": "markdown",
      "source": [
        "**get_color**:\n",
        "Determines the color for bounding boxes based on object classes.\n",
        "\n",
        "*   display_str: String representing the class name."
      ],
      "metadata": {
        "id": "lmcnSjyTQXut"
      }
    },
    {
      "cell_type": "code",
      "source": [
        "def get_color(display_str):\n",
        "    color_groups = {\n",
        "        \"#006666\": [\"Tree\", \"Palm tree\"],\n",
        "        \"#00B7B7\": [\"Vehicle\", \"vehicle\", \"Car\", \"Wheel\", \"Van\", \"Bicycle\", \"Boat\"],\n",
        "        \"#013346\": [\"Water\", \"Pond\"],\n",
        "        \"#08a294\": [\"Street\"],\n",
        "        \"#00e59e\": [\"Building\", \"House\", \"Window\", \"Door\", \"Skyscraper\"],\n",
        "        \"#ea6868\": [\"Person\", \"Clothing\", \"Woman\", \"Human\", \"Man\", \"Human face\"],\n",
        "        \"#8CEE92\": [\"Street light\"],\n",
        "        \"#036D5E\": [\"Billboard\", \"Traffic sign\"],\n",
        "    }\n",
        "    for color, classes in color_groups.items():\n",
        "        if any(c in display_str for c in classes):\n",
        "            return color\n",
        "    return \"#ea3636\"  # Default color"
      ],
      "metadata": {
        "id": "JdpynNU2QIOI"
      },
      "execution_count": null,
      "outputs": []
    },
    {
      "cell_type": "markdown",
      "source": [
        "**draw_box**:\n",
        "Draws a bounding box on an image.\n",
        "\n",
        "*   draw: PIL ImageDraw object for drawing on the image.\n",
        "*   box: Tuple representing bounding box coordinates.\n",
        "*   color: Color code for the bounding box.\n",
        "*   width_px, height_px: Width and height of the image."
      ],
      "metadata": {
        "id": "p8LmpenVQb1n"
      }
    },
    {
      "cell_type": "code",
      "source": [
        "def draw_box(draw, box, color, width_px, height_px):\n",
        "    im_width, im_height = width_px, height_px\n",
        "    xmin, ymin, xmax, ymax = box\n",
        "    left, right, top, bottom = (xmin * im_width, xmax * im_width, ymin * im_height, ymax * im_height)\n",
        "    rgba_color = ImageColor.getrgb(color)\n",
        "    draw.rectangle([(left, top), (right, bottom)], outline=rgba_color, width=3)"
      ],
      "metadata": {
        "id": "GX2X2wusQKpj"
      },
      "execution_count": null,
      "outputs": []
    },
    {
      "cell_type": "markdown",
      "source": [
        "**draw_text**:\n",
        "Draws text on an image.\n",
        "\n",
        "*   draw: PIL ImageDraw object for drawing on the image.\n",
        "*   font: PIL ImageFont object for specifying the font.\n",
        "*   text: Text to be drawn.\n",
        "*   position: Tuple representing the position to draw the text.\n",
        "*   color: Color code for the text."
      ],
      "metadata": {
        "id": "Vu6wyLuEQd5z"
      }
    },
    {
      "cell_type": "code",
      "source": [
        "def draw_text(draw, font, text, position, color):\n",
        "    left, top = position\n",
        "    rgba_color = ImageColor.getrgb(color)\n",
        "    draw.text((left + 5, top - 75), text, fill=\"white\", font=font, align=\"center\")"
      ],
      "metadata": {
        "id": "eMP8lsCAQMkp"
      },
      "execution_count": null,
      "outputs": []
    },
    {
      "cell_type": "markdown",
      "source": [
        "**load_image**:\n",
        "Loads and resizes an image.\n",
        "\n",
        "*   path: Path to the image file.\n",
        "*   new_width, new_height: Dimensions for resizing the image."
      ],
      "metadata": {
        "id": "-CZ4Wo-WQeb3"
      }
    },
    {
      "cell_type": "code",
      "source": [
        "def load_image(path, new_width, new_height):\n",
        "    img = Image.open(path)\n",
        "    img = ImageOps.fit(img, (new_width, new_height), Image.LANCZOS)\n",
        "    return img"
      ],
      "metadata": {
        "id": "Iz9X9muYQO5K"
      },
      "execution_count": null,
      "outputs": []
    },
    {
      "cell_type": "markdown",
      "source": [
        "**run_detector**:\n",
        "Runs object detection on an image and displays the results.\n",
        "\n",
        "*   col_sel: Color selection for bounding boxes.\n",
        "imgName: Name of the image file.\n",
        "*   detector: TensorFlow Hub object detection model.\n",
        "*   path: Path to the image file."
      ],
      "metadata": {
        "id": "WxE0F_1dQkWy"
      }
    },
    {
      "cell_type": "code",
      "source": [
        "def run_detector(col_sel, imgName, detector, path):\n",
        "    img = load_image(path, width_px, height_px)\n",
        "    converted_img = tf.image.convert_image_dtype(np.array(img), tf.float32)[tf.newaxis, ...]\n",
        "    result = detector(converted_img)\n",
        "    result = {key: value.numpy() for key, value in result.items()}\n",
        "    display_image(img, result[\"detection_boxes\"], result[\"detection_class_entities\"],\n",
        "                  result[\"detection_scores\"], col_sel, imgName, width_px, height_px)\n",
        "    return result"
      ],
      "metadata": {
        "id": "uHiTfE-YQQiz"
      },
      "execution_count": null,
      "outputs": []
    },
    {
      "cell_type": "code",
      "source": [
        "# Module handle for object detection\n",
        "module_handle = \"https://tfhub.dev/google/faster_rcnn/openimages_v4/inception_resnet_v2/1\"\n",
        "detector = hub.load(module_handle).signatures['default']\n",
        "\n",
        "# Set image dimensions\n",
        "width_px, height_px = 800, 600\n",
        "\n",
        "# Process images in a directory\n",
        "mypath = \"/content/gdrive/MyDrive/0_work/3_MIT/data_collection/18_segments/05_extra_frames/00_selected_frames/\" #replace with your folder file path\n",
        "onlyfiles = [f for f in listdir(mypath) if isfile(join(mypath, f))]\n",
        "color_layers = [\"#006666\", \"#00B7B7\", \"#013346\", \"#08a294\", \"#00e59e\", \"#ea6868\", \"#8CEE92\", \"#036D5E\"]\n",
        "for index, imgName in enumerate(onlyfiles):\n",
        "    print(imgName)\n",
        "    image_path = join(mypath, imgName)\n",
        "    result = run_detector(color_layers[index], imgName, detector, image_path)\n"
      ],
      "metadata": {
        "id": "1u7YM24GK6z0"
      },
      "execution_count": null,
      "outputs": []
    }
  ],
  "metadata": {
    "colab": {
      "machine_shape": "hm",
      "provenance": [],
      "mount_file_id": "1EcMT30pC5dOyrnlN84iDbEP1gLONtfC1",
      "authorship_tag": "ABX9TyP9hAJwxERmpYdRHQMEq61j",
      "include_colab_link": true
    },
    "kernelspec": {
      "display_name": "Python 3",
      "name": "python3"
    },
    "language_info": {
      "name": "python"
    }
  },
  "nbformat": 4,
  "nbformat_minor": 0
}